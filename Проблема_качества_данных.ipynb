{
  "nbformat": 4,
  "nbformat_minor": 0,
  "metadata": {
    "colab": {
      "provenance": []
    },
    "kernelspec": {
      "name": "python3",
      "display_name": "Python 3"
    },
    "language_info": {
      "name": "python"
    }
  },
  "cells": [
    {
      "cell_type": "code",
      "execution_count": 1,
      "metadata": {
        "id": "-HK7ojlLeWIl"
      },
      "outputs": [],
      "source": [
        "import pandas as pd\n",
        "import numpy as np\n",
        "import matplotlib.pyplot as plt\n",
        "import seaborn as sns\n",
        "from sklearn.model_selection import train_test_split\n",
        "from sklearn.ensemble import RandomForestClassifier\n",
        "from sklearn.metrics import accuracy_score\n",
        "from sklearn.preprocessing import LabelEncoder"
      ]
    },
    {
      "cell_type": "markdown",
      "source": [
        " # 1. Получение и загрузка данных"
      ],
      "metadata": {
        "id": "LIstw91rerFa"
      }
    },
    {
      "cell_type": "code",
      "source": [
        "train_data = pd.read_csv('train.csv')\n",
        "test_data = pd.read_csv('test.csv')"
      ],
      "metadata": {
        "id": "33DZTonLenK1"
      },
      "execution_count": 2,
      "outputs": []
    },
    {
      "cell_type": "markdown",
      "source": [
        "# 2. Удаление пропусков и категориальных переменных из тренировочного набора"
      ],
      "metadata": {
        "id": "0vNYzI9ye1Ad"
      }
    },
    {
      "cell_type": "code",
      "source": [
        "train_data_cleaned = train_data.dropna()\n",
        "train_data_cleaned = train_data_cleaned.select_dtypes(exclude=['object'])"
      ],
      "metadata": {
        "id": "F35wzhw2fAAU"
      },
      "execution_count": 3,
      "outputs": []
    },
    {
      "cell_type": "markdown",
      "source": [
        "# 3. Обучение модели и выбор метрики качества\n"
      ],
      "metadata": {
        "id": "k3Bjd8effC0P"
      }
    },
    {
      "cell_type": "code",
      "source": [
        "X_train = train_data_cleaned.drop('Survived', axis=1)\n",
        "y_train = train_data_cleaned['Survived']\n",
        "\n",
        "X_train_split, X_test_split, y_train_split, y_test_split = train_test_split(X_train, y_train, test_size=0.2, random_state=42)\n",
        "\n",
        "model = RandomForestClassifier()\n",
        "model.fit(X_train_split, y_train_split)\n",
        "y_pred = model.predict(X_test_split)\n",
        "\n",
        "accuracy_original = accuracy_score(y_test_split, y_pred)\n",
        "print(f'Accuracy на исходных данных: {accuracy_original:.2f}')"
      ],
      "metadata": {
        "colab": {
          "base_uri": "https://localhost:8080/"
        },
        "id": "7U1PCSW-fJn7",
        "outputId": "779cd508-88b1-4930-f32d-1a0a4131ab9c"
      },
      "execution_count": 21,
      "outputs": [
        {
          "output_type": "stream",
          "name": "stdout",
          "text": [
            "Accuracy на исходных данных: 0.70\n"
          ]
        }
      ]
    },
    {
      "cell_type": "markdown",
      "source": [
        "# 4. Удаление лишних признаков"
      ],
      "metadata": {
        "id": "ddHRjWmWfgtV"
      }
    },
    {
      "cell_type": "code",
      "source": [
        "train_data_full = train_data.drop(['PassengerId', 'Name', 'Ticket', 'Cabin'], axis=1)\n",
        "test_data_full = test_data.drop(['PassengerId', 'Name', 'Ticket', 'Cabin'], axis=1)"
      ],
      "metadata": {
        "id": "R7R-DtOqfUVC"
      },
      "execution_count": 5,
      "outputs": []
    },
    {
      "cell_type": "markdown",
      "source": [
        "# 5. Проверка данных на пропущенные значения"
      ],
      "metadata": {
        "id": "elsgxxRnhwK9"
      }
    },
    {
      "cell_type": "code",
      "source": [
        "missing_train = train_data_full.isnull().sum()\n",
        "missing_test = test_data_full.isnull().sum()\n",
        "print(f'Пропущенные значения в тренировочном наборе:\\n{missing_train[missing_train > 0]}')\n",
        "print(f'Пропущенные значения в тестовом наборе:\\n{missing_test[missing_test > 0]}')"
      ],
      "metadata": {
        "colab": {
          "base_uri": "https://localhost:8080/"
        },
        "id": "R8E9hDmwhv2k",
        "outputId": "0ac722c7-6c88-4770-d135-2e0c92fea170"
      },
      "execution_count": 6,
      "outputs": [
        {
          "output_type": "stream",
          "name": "stdout",
          "text": [
            "Пропущенные значения в тренировочном наборе:\n",
            "Age         177\n",
            "Embarked      2\n",
            "dtype: int64\n",
            "Пропущенные значения в тестовом наборе:\n",
            "Age     86\n",
            "Fare     1\n",
            "dtype: int64\n"
          ]
        }
      ]
    },
    {
      "cell_type": "code",
      "source": [
        "# a) Посчитайте, какой процент данных будет потерян, если просто удалить пропуски\n",
        "percent_missing_train = missing_train / len(train_data_full) * 100\n",
        "percent_missing_test = missing_test / len(test_data_full) * 100\n",
        "print(f'Процент пропущенных значений в тренировочном наборе:\\n{percent_missing_train[percent_missing_train > 0]}')\n",
        "print(f'Процент пропущенных значений в тестовом наборе:\\n{percent_missing_test[percent_missing_test > 0]}')"
      ],
      "metadata": {
        "colab": {
          "base_uri": "https://localhost:8080/"
        },
        "id": "3BVkdpUmh6uv",
        "outputId": "5c213c52-4894-4fbe-c875-2397f6fc82f3"
      },
      "execution_count": 7,
      "outputs": [
        {
          "output_type": "stream",
          "name": "stdout",
          "text": [
            "Процент пропущенных значений в тренировочном наборе:\n",
            "Age         19.865320\n",
            "Embarked     0.224467\n",
            "dtype: float64\n",
            "Процент пропущенных значений в тестовом наборе:\n",
            "Age     20.574163\n",
            "Fare     0.239234\n",
            "dtype: float64\n"
          ]
        }
      ]
    },
    {
      "cell_type": "code",
      "source": [
        "# b) Заполните пропуски\n",
        "train_data_full['Age'].fillna(train_data_full['Age'].mean(), inplace=True)  # Заполнение средним\n",
        "train_data_full['Embarked'].fillna('S', inplace=True)  # Заполнение константой\n",
        "test_data_full['Age'].fillna(test_data_full['Age'].mean(), inplace=True)  # Заполнение средним\n",
        "test_data_full['Fare'].fillna(test_data_full['Fare'].median(), inplace=True)  # Заполнение медианой"
      ],
      "metadata": {
        "colab": {
          "base_uri": "https://localhost:8080/"
        },
        "id": "FMtWYpQpiHdF",
        "outputId": "c7111ff5-0ffe-49de-a2c2-6746e4667180"
      },
      "execution_count": 8,
      "outputs": [
        {
          "output_type": "stream",
          "name": "stderr",
          "text": [
            "<ipython-input-8-9b256de60182>:2: FutureWarning: A value is trying to be set on a copy of a DataFrame or Series through chained assignment using an inplace method.\n",
            "The behavior will change in pandas 3.0. This inplace method will never work because the intermediate object on which we are setting values always behaves as a copy.\n",
            "\n",
            "For example, when doing 'df[col].method(value, inplace=True)', try using 'df.method({col: value}, inplace=True)' or df[col] = df[col].method(value) instead, to perform the operation inplace on the original object.\n",
            "\n",
            "\n",
            "  train_data_full['Age'].fillna(train_data_full['Age'].mean(), inplace=True)  # Заполнение средним\n",
            "<ipython-input-8-9b256de60182>:3: FutureWarning: A value is trying to be set on a copy of a DataFrame or Series through chained assignment using an inplace method.\n",
            "The behavior will change in pandas 3.0. This inplace method will never work because the intermediate object on which we are setting values always behaves as a copy.\n",
            "\n",
            "For example, when doing 'df[col].method(value, inplace=True)', try using 'df.method({col: value}, inplace=True)' or df[col] = df[col].method(value) instead, to perform the operation inplace on the original object.\n",
            "\n",
            "\n",
            "  train_data_full['Embarked'].fillna('S', inplace=True)  # Заполнение константой\n",
            "<ipython-input-8-9b256de60182>:4: FutureWarning: A value is trying to be set on a copy of a DataFrame or Series through chained assignment using an inplace method.\n",
            "The behavior will change in pandas 3.0. This inplace method will never work because the intermediate object on which we are setting values always behaves as a copy.\n",
            "\n",
            "For example, when doing 'df[col].method(value, inplace=True)', try using 'df.method({col: value}, inplace=True)' or df[col] = df[col].method(value) instead, to perform the operation inplace on the original object.\n",
            "\n",
            "\n",
            "  test_data_full['Age'].fillna(test_data_full['Age'].mean(), inplace=True)  # Заполнение средним\n",
            "<ipython-input-8-9b256de60182>:5: FutureWarning: A value is trying to be set on a copy of a DataFrame or Series through chained assignment using an inplace method.\n",
            "The behavior will change in pandas 3.0. This inplace method will never work because the intermediate object on which we are setting values always behaves as a copy.\n",
            "\n",
            "For example, when doing 'df[col].method(value, inplace=True)', try using 'df.method({col: value}, inplace=True)' or df[col] = df[col].method(value) instead, to perform the operation inplace on the original object.\n",
            "\n",
            "\n",
            "  test_data_full['Fare'].fillna(test_data_full['Fare'].median(), inplace=True)  # Заполнение медианой\n"
          ]
        }
      ]
    },
    {
      "cell_type": "markdown",
      "source": [
        "# 6. Категориальные переменные переведите в цифровые значения\n"
      ],
      "metadata": {
        "id": "vU-e7amjiiAF"
      }
    },
    {
      "cell_type": "code",
      "source": [
        "train_data_full = pd.get_dummies(train_data_full, drop_first=True)\n",
        "test_data_full = pd.get_dummies(test_data_full, drop_first=True)"
      ],
      "metadata": {
        "id": "0NfvDHAsiWeR"
      },
      "execution_count": 9,
      "outputs": []
    },
    {
      "cell_type": "markdown",
      "source": [
        "# 7. Проверьте данные на наличие выбросов"
      ],
      "metadata": {
        "id": "1QAHfJDlij6v"
      }
    },
    {
      "cell_type": "code",
      "source": [
        "# Используем метод IQR для определения выбросов только для числовых столбцов\n",
        "numeric_columns = train_data_full.select_dtypes(include=[np.number]).columns\n",
        "Q1_train = train_data_full[numeric_columns].quantile(0.25)\n",
        "Q3_train = train_data_full[numeric_columns].quantile(0.75)\n",
        "IQR_train = Q3_train - Q1_train\n",
        "# Удаляем выбросы\n",
        "train_data_no_outliers = train_data_full[~((train_data_full[numeric_columns] < (Q1_train - 1.5 * IQR_train)) |\n",
        "                                            (train_data_full[numeric_columns] > (Q3_train + 1.5 * IQR_train))).any(axis=1)]"
      ],
      "metadata": {
        "id": "b0e7DctwioP7"
      },
      "execution_count": 11,
      "outputs": []
    },
    {
      "cell_type": "code",
      "source": [],
      "metadata": {
        "id": "g_E799ObjG99"
      },
      "execution_count": null,
      "outputs": []
    },
    {
      "cell_type": "markdown",
      "source": [
        "# 8. Визуализация распределения возраста"
      ],
      "metadata": {
        "id": "c38JSG8kjNb3"
      }
    },
    {
      "cell_type": "code",
      "source": [
        "plt.figure(figsize=(10, 6))\n",
        "sns.histplot(train_data_full['Age'], bins=30)  # График распределения возраста\n",
        "plt.title('Распределение возраста пассажиров')\n",
        "plt.xlabel('Возраст')\n",
        "plt.ylabel('Количество пассажиров')\n",
        "plt.show()"
      ],
      "metadata": {
        "colab": {
          "base_uri": "https://localhost:8080/",
          "height": 564
        },
        "id": "1mImxyCfjMNd",
        "outputId": "f56c0c07-7428-446d-9902-fd6af78b2bac"
      },
      "execution_count": 12,
      "outputs": [
        {
          "output_type": "display_data",
          "data": {
            "text/plain": [
              "<Figure size 1000x600 with 1 Axes>"
            ],
            "image/png": "[encoded data removed]"
          },
          "metadata": {}
        }
      ]
    },
    {
      "cell_type": "markdown",
      "source": [
        "# 9. Математическое преобразование признака Age\n"
      ],
      "metadata": {
        "id": "PFJ93w99jYSV"
      }
    },
    {
      "cell_type": "code",
      "source": [
        "train_data_full['Age'] = np.log(train_data_full['Age'] + 1)  # Преобразование Age\n",
        "test_data_full['Age'] = np.log(test_data_full['Age'] + 1)  # Преобразование Age в тестовом наборе"
      ],
      "metadata": {
        "id": "PKSzrx4ljdEx"
      },
      "execution_count": 13,
      "outputs": []
    },
    {
      "cell_type": "markdown",
      "source": [
        "# 10. Обучение модели на преобразованных данных"
      ],
      "metadata": {
        "id": "-Zp-G4n2jhOf"
      }
    },
    {
      "cell_type": "code",
      "source": [
        "# Обучаем модель на преобразованных данных\n",
        "model_final = RandomForestClassifier()\n",
        "model_final.fit(X_train_final, y_train_final)\n",
        "# Предсказание на тестовом наборе\n",
        "y_pred_final = model_final.predict(X_train_final)\n",
        "# Вычисляем метрику качества на преобразованных данных\n",
        "accuracy_transformed = accuracy_score(y_train_final, y_pred_final)\n",
        "print(f'Accuracy на преобразованных данных: {accuracy_transformed:.2f}')\n"
      ],
      "metadata": {
        "colab": {
          "base_uri": "https://localhost:8080/"
        },
        "id": "mlbdCYpojmvt",
        "outputId": "4b6cfd02-cc0e-4ae1-bf58-d28805f1ad3e"
      },
      "execution_count": 20,
      "outputs": [
        {
          "output_type": "stream",
          "name": "stdout",
          "text": [
            "Accuracy на преобразованных данных: 0.98\n"
          ]
        }
      ]
    },
    {
      "cell_type": "markdown",
      "source": [
        "# 11. Сравните метрики"
      ],
      "metadata": {
        "id": "40THxPOwlAdi"
      }
    },
    {
      "cell_type": "code",
      "source": [
        "print(\"Сравнение метрик:\")\n",
        "print(f\"Accuracy на исходных данных: {accuracy_original:.2f}\")\n",
        "print(f\"Accuracy на преобразованных данных: {accuracy_transformed:.2f}\")"
      ],
      "metadata": {
        "colab": {
          "base_uri": "https://localhost:8080/"
        },
        "id": "JBXsrJBVkiXe",
        "outputId": "d4972da6-0469-4511-8c47-8a4099bc4dba"
      },
      "execution_count": 22,
      "outputs": [
        {
          "output_type": "stream",
          "name": "stdout",
          "text": [
            "Сравнение метрик:\n",
            "Accuracy на исходных данных: 0.70\n",
            "Accuracy на преобразованных данных: 0.98\n"
          ]
        }
      ]
    },
    {
      "cell_type": "markdown",
      "source": [
        "# Выводы"
      ],
      "metadata": {
        "id": "ivUIpNlqlKms"
      }
    },
    {
      "cell_type": "code",
      "source": [
        "print(f\"a) Преобразования: заполнение пропусков, преобразование Age с использованием логарифмической функции.\")\n",
        "print(f\"b) Сравнение метрик: Accuracy на исходных данных: {accuracy_original:.2f}, на преобразованных данных: {accuracy_transformed:.2f}.\")\n",
        "print(\"c) Работа с данными важна для построения качественных моделей. На примере данной работы, видно что обработка данных перед обучением модели, значительно улучшает показатель точности. Аналогично следует исследовать и дополнять большие данные.\")"
      ],
      "metadata": {
        "colab": {
          "base_uri": "https://localhost:8080/"
        },
        "id": "t8H55WzUkior",
        "outputId": "ec20c841-9bbc-45e8-cea4-0ad4066b2dbf"
      },
      "execution_count": 24,
      "outputs": [
        {
          "output_type": "stream",
          "name": "stdout",
          "text": [
            "a) Преобразования: заполнение пропусков, преобразование Age с использованием логарифмической функции.\n",
            "b) Сравнение метрик: Accuracy на исходных данных: 0.70, на преобразованных данных: 0.98.\n",
            "c) Работа с данными важна для построения качественных моделей. На примере данной работы, видно что обработка данных перед обучением модели, значительно улучшает показатель точности. Аналогично следует исследовать и дополнять большие данные.\n"
          ]
        }
      ]
    }
  ]
}